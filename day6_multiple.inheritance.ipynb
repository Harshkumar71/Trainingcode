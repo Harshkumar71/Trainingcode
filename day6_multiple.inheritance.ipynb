{
 "cells": [
  {
   "cell_type": "markdown",
   "metadata": {},
   "source": [
    " #multi level inheritance\n"
   ]
  },
  {
   "cell_type": "code",
   "execution_count": 20,
   "metadata": {},
   "outputs": [
    {
     "name": "stdout",
     "output_type": "stream",
     "text": [
      "40\n",
      "20\n"
     ]
    }
   ],
   "source": [
    "class grandfather:\n",
    "  grandfather_name = \"bani singh\"\n",
    "  grandfather_age  = 40\n",
    "\n",
    "class father():\n",
    "  father_name = \"jaiveer\"\n",
    "  father_age = 64\n",
    "\n",
    "\n",
    "class child(grandfather,father):\n",
    "  child_name = \"harsh kumar\"\n",
    "  child_age = 20\n",
    "obj1= child()\n",
    "print(obj1.grandfather_age)\n",
    "print(obj1.child_age)\n"
   ]
  },
  {
   "cell_type": "markdown",
   "metadata": {},
   "source": []
  },
  {
   "cell_type": "markdown",
   "metadata": {},
   "source": [
    "# Encapsulation\n",
    " \n",
    " * public method\n",
    " * private method\n",
    " * protected method"
   ]
  },
  {
   "cell_type": "markdown",
   "metadata": {},
   "source": []
  },
  {
   "cell_type": "code",
   "execution_count": 2,
   "metadata": {},
   "outputs": [
    {
     "name": "stdout",
     "output_type": "stream",
     "text": [
      "harsh kumar\n",
      "mohit kumar\n"
     ]
    }
   ],
   "source": [
    "class collage:\n",
    "    collage_name = \"liet collage\"\n",
    "    pin_code = \"301018\"\n",
    "\n",
    "class teacher(collage):\n",
    "    hod_collage = \"patwal sir\"\n",
    "    maths_sir = \"balvir sir\"\n",
    "\n",
    "class students(teacher):\n",
    "    name1 = \"harsh kumar\" \n",
    "    name2 = \"mohit kumar\"\n",
    "obj1=students()\n",
    "print(obj1.name1)\n",
    "print(obj1.name2)\n"
   ]
  },
  {
   "cell_type": "markdown",
   "metadata": {},
   "source": [
    "private"
   ]
  },
  {
   "cell_type": "code",
   "execution_count": 18,
   "metadata": {},
   "outputs": [
    {
     "name": "stdout",
     "output_type": "stream",
     "text": [
      "harsh kumar\n",
      "mohit kumar\n"
     ]
    },
    {
     "ename": "AttributeError",
     "evalue": "'students' object has no attribute '__salary'",
     "output_type": "error",
     "traceback": [
      "\u001b[1;31m---------------------------------------------------------------------------\u001b[0m",
      "\u001b[1;31mAttributeError\u001b[0m                            Traceback (most recent call last)",
      "\u001b[1;32mc:\\Users\\LIET\\Desktop\\trainingcode\\Trainingcode\\day6_multiple.inheritance.ipynb Cell 9\u001b[0m line \u001b[0;36m1\n\u001b[0;32m     <a href='vscode-notebook-cell:/c%3A/Users/LIET/Desktop/trainingcode/Trainingcode/day6_multiple.inheritance.ipynb#X46sZmlsZQ%3D%3D?line=13'>14</a>\u001b[0m \u001b[39mprint\u001b[39m(obj1\u001b[39m.\u001b[39mname1)\n\u001b[0;32m     <a href='vscode-notebook-cell:/c%3A/Users/LIET/Desktop/trainingcode/Trainingcode/day6_multiple.inheritance.ipynb#X46sZmlsZQ%3D%3D?line=14'>15</a>\u001b[0m \u001b[39mprint\u001b[39m(obj1\u001b[39m.\u001b[39mname2)\n\u001b[1;32m---> <a href='vscode-notebook-cell:/c%3A/Users/LIET/Desktop/trainingcode/Trainingcode/day6_multiple.inheritance.ipynb#X46sZmlsZQ%3D%3D?line=15'>16</a>\u001b[0m \u001b[39mprint\u001b[39m(obj1\u001b[39m.\u001b[39;49m__salary)\n",
      "\u001b[1;31mAttributeError\u001b[0m: 'students' object has no attribute '__salary'"
     ]
    }
   ],
   "source": [
    "class collage:\n",
    "    collage_name = \"liet collage\"   # it is public by bdefault\n",
    "    pin_code = \"301018\"\n",
    "\n",
    "class teacher(collage):\n",
    "    hod_collage = \"patwal sir\"\n",
    "    maths_sir = \"balvir sir\"\n",
    "    __salary=\"50000\"      #private variable\n",
    "\n",
    "class students(teacher):\n",
    "    name1 = \"harsh kumar\" \n",
    "    name2 = \"mohit kumar\"\n",
    "obj1=students()\n",
    "print(obj1.name1)\n",
    "print(obj1.name2)\n",
    "print(obj1.__salary)"
   ]
  },
  {
   "cell_type": "markdown",
   "metadata": {},
   "source": []
  },
  {
   "cell_type": "code",
   "execution_count": 17,
   "metadata": {},
   "outputs": [
    {
     "name": "stdout",
     "output_type": "stream",
     "text": [
      "liet\n",
      "250\n"
     ]
    }
   ],
   "source": [
    "class collage:\n",
    "    collage_name = \"liet collage\"   # it is public by bdefault\n",
    "    pin_code = \"301018\"\n",
    "    def __init__(self,collage_name,collage_rooms):\n",
    "        self.collage_name = \"liet\"\n",
    "        self.collage_rooms= 250\n",
    "    def display(self):\n",
    "       print(self.collage_name)\n",
    "       print(self.collage_rooms)\n",
    "\n",
    "class teacher(collage):\n",
    "    hod_collage = \"patwal sir\"\n",
    "    maths_sir = \"balvir sir\"\n",
    "    __salary=\"50000\"      #private variable\n",
    "\n",
    "class students(teacher):\n",
    "    name1 = \"harsh kumar\" \n",
    "    name2 = \"mohit kumar\"\n",
    "obj1=students(\"liet\",\"250\")\n",
    "print(obj1.collage_name)\n",
    "print(obj1.collage_rooms)"
   ]
  },
  {
   "cell_type": "markdown",
   "metadata": {},
   "source": []
  },
  {
   "cell_type": "markdown",
   "metadata": {},
   "source": [
    "Protected"
   ]
  },
  {
   "cell_type": "code",
   "execution_count": 26,
   "metadata": {},
   "outputs": [
    {
     "name": "stdout",
     "output_type": "stream",
     "text": [
      "harsh kumar\n",
      "mohit kumar\n",
      "liet collage\n"
     ]
    }
   ],
   "source": [
    "class collage:\n",
    "    _collage_name = \"liet collage\"   # protected variabke\n",
    "    pin_code = \"301018\"\n",
    "\n",
    "class teacher(collage):\n",
    "    hod_collage = \"patwal sir\"\n",
    "    maths_sir = \"balvir sir\"\n",
    "    salary=\"50000\"      \n",
    "\n",
    "class students(teacher):\n",
    "    name1 = \"harsh kumar\" \n",
    "    name2 = \"mohit kumar\"\n",
    "obj1=students()\n",
    "print(obj1.name1)\n",
    "print(obj1.name2)\n",
    "print(obj1._collage_name)"
   ]
  },
  {
   "cell_type": "markdown",
   "metadata": {},
   "source": [
    "Polymorphysm"
   ]
  },
  {
   "cell_type": "code",
   "execution_count": 29,
   "metadata": {},
   "outputs": [
    {
     "name": "stdout",
     "output_type": "stream",
     "text": [
      "hello india\n"
     ]
    }
   ],
   "source": [
    "print(\"hello india\")              #fun multi work"
   ]
  },
  {
   "cell_type": "markdown",
   "metadata": {},
   "source": [
    "Abstraction"
   ]
  },
  {
   "cell_type": "code",
   "execution_count": null,
   "metadata": {},
   "outputs": [],
   "source": [
    "print          # three (...)dot no copy other"
   ]
  },
  {
   "cell_type": "code",
   "execution_count": null,
   "metadata": {},
   "outputs": [],
   "source": []
  }
 ],
 "metadata": {
  "kernelspec": {
   "display_name": "Python 3",
   "language": "python",
   "name": "python3"
  },
  "language_info": {
   "codemirror_mode": {
    "name": "ipython",
    "version": 3
   },
   "file_extension": ".py",
   "mimetype": "text/x-python",
   "name": "python",
   "nbconvert_exporter": "python",
   "pygments_lexer": "ipython3",
   "version": "3.10.6"
  }
 },
 "nbformat": 4,
 "nbformat_minor": 2
}
