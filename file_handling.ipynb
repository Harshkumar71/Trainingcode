{
 "cells": [
  {
   "cell_type": "code",
   "execution_count": null,
   "metadata": {},
   "outputs": [
    {
     "name": "stdout",
     "output_type": "stream",
     "text": [
      "C:\\Users\\LIET\\Desktop\\trainingcode\\Trainingcode\\file handling.txt\n",
      "<built-in method read of _io.TextIOWrapper object at 0x0153C190>\n"
     ]
    }
   ],
   "source": [
    "f = open(\"file_handling.txt\")\n",
    "print(r\"C:\\Users\\LIET\\Desktop\\trainingcode\\Trainingcode\\file handling.txt\")\n",
    "print(f.read)\n"
   ]
  },
  {
   "cell_type": "code",
   "execution_count": null,
   "metadata": {},
   "outputs": [
    {
     "name": "stdout",
     "output_type": "stream",
     "text": [
      "hii my name is harsh kuuumar\n",
      "my friend name is mohit\n",
      "and we are styduing together\n",
      "and i have many other friend\n"
     ]
    }
   ],
   "source": [
    "f=open(\"file_handling.txt\",'r')\n",
    "print(f.read())"
   ]
  },
  {
   "cell_type": "code",
   "execution_count": null,
   "metadata": {},
   "outputs": [
    {
     "name": "stdout",
     "output_type": "stream",
     "text": [
      "hii my nam\n",
      "e is harsh kuuumar\n",
      "\n",
      "my friend name is mohit\n",
      "\n",
      "and we are styduing together\n",
      "\n",
      "and i have many other friend\n"
     ]
    }
   ],
   "source": [
    "f=open(\"file_handling.txt\",'r')\n",
    "print(f.read(10))\n",
    " \n",
    "for i in f:\n",
    "    print(i)"
   ]
  },
  {
   "cell_type": "markdown",
   "metadata": {},
   "source": [
    "w mode\n"
   ]
  },
  {
   "cell_type": "code",
   "execution_count": null,
   "metadata": {},
   "outputs": [],
   "source": [
    "f = open(\"file2.txt\",'w')\n",
    "f.write(\"hello india\")\n",
    "f.close()\n",
    "a=open(\"file2.txt\"'r')\n",
    "print(a.read)\n"
   ]
  },
  {
   "cell_type": "markdown",
   "metadata": {},
   "source": [
    "A mode\n"
   ]
  },
  {
   "cell_type": "code",
   "execution_count": null,
   "metadata": {},
   "outputs": [],
   "source": [
    "with open(\"file.txt\",'a') as file:\n",
    "  file.write(\"hello\")\n",
    "file.close()\n"
   ]
  }
 ],
 "metadata": {
  "kernelspec": {
   "display_name": "Python 3",
   "language": "python",
   "name": "python3"
  },
  "language_info": {
   "codemirror_mode": {
    "name": "ipython",
    "version": 3
   },
   "file_extension": ".py",
   "mimetype": "text/x-python",
   "name": "python",
   "nbconvert_exporter": "python",
   "pygments_lexer": "ipython3",
   "version": "3.10.6"
  }
 },
 "nbformat": 4,
 "nbformat_minor": 2
}
